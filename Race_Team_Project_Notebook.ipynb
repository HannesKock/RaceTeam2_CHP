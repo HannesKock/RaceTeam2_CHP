{
  "cells": [
    {
      "cell_type": "markdown",
      "metadata": {
        "id": "view-in-github",
        "colab_type": "text"
      },
      "source": [
        "<a href=\"https://colab.research.google.com/github/HannesKock/RaceTeam2_CHP/blob/main/Race_Team_Project_Notebook.ipynb\" target=\"_parent\"><img src=\"https://colab.research.google.com/assets/colab-badge.svg\" alt=\"Open In Colab\"/></a>"
      ]
    },
    {
      "cell_type": "markdown",
      "metadata": {
        "id": "ycXWv5-jYpIC"
      },
      "source": [
        "# **Race Team Project Notebook**\n",
        "Names:\n",
        "\n",
        "Matr.:"
      ]
    },
    {
      "cell_type": "markdown",
      "metadata": {
        "id": "BUOq9_tORt3e"
      },
      "source": [
        "Please write down the Name of the Group member you worked on each section of code. This is necessary for grading by Studienbüro."
      ]
    },
    {
      "cell_type": "markdown",
      "metadata": {
        "id": "a8aiLYHdaX9P"
      },
      "source": [
        "## **Analytics for Race 1**"
      ]
    },
    {
      "cell_type": "markdown",
      "metadata": {
        "id": "CuIPnDlucl2q"
      },
      "source": [
        "- For each race day built one section with the code that you built for this race\n",
        "- If you keep the same code during the next races copy the code over to the next section\n",
        "- Describe why you built your analytics the way you do and interprete after each race what went well and what you want to improve on\n",
        "- During motivation and interpretation try to cite online sources that you read to make better decisions (e.g., scientific articles on machine learning, blog posts, github pages)"
      ]
    },
    {
      "cell_type": "code",
      "execution_count": null,
      "metadata": {
        "id": "bhtO3nrmQL5S"
      },
      "outputs": [],
      "source": [
        "# Team members working on this code: Names.."
      ]
    },
    {
      "cell_type": "code",
      "execution_count": null,
      "metadata": {
        "id": "dDhL2cIsQL5T"
      },
      "outputs": [],
      "source": [
        "# Team members working on this code: Names.."
      ]
    },
    {
      "cell_type": "code",
      "execution_count": null,
      "metadata": {
        "id": "3z_A9-ymQL5T"
      },
      "outputs": [],
      "source": [
        "#.."
      ]
    },
    {
      "cell_type": "markdown",
      "metadata": {
        "id": "f1LiOt7yQL5T"
      },
      "source": [
        "## **Analytics for Race 2**"
      ]
    },
    {
      "cell_type": "code",
      "execution_count": null,
      "metadata": {
        "id": "VZcWkDUrQL5T"
      },
      "outputs": [],
      "source": [
        "# Team members working on this code: Names.."
      ]
    },
    {
      "cell_type": "markdown",
      "metadata": {
        "id": "aZneIB62QL5T"
      },
      "source": [
        "## **Analytics for Race 3**"
      ]
    },
    {
      "cell_type": "code",
      "execution_count": null,
      "metadata": {
        "id": "IdHKUysbQL5T"
      },
      "outputs": [],
      "source": [
        "# Team members working on this code: Names.."
      ]
    },
    {
      "cell_type": "markdown",
      "metadata": {
        "id": "nFETMTcZQL5T"
      },
      "source": [
        "## **Analytics for Race 4**"
      ]
    },
    {
      "cell_type": "code",
      "execution_count": null,
      "metadata": {
        "id": "lS0Om6gBQL5T"
      },
      "outputs": [],
      "source": [
        "# Team members working on this code: Names.."
      ]
    },
    {
      "cell_type": "markdown",
      "metadata": {
        "id": "5Ajs8np_QL5T"
      },
      "source": [
        "## **Analytics for Race 5**"
      ]
    },
    {
      "cell_type": "code",
      "execution_count": null,
      "metadata": {
        "id": "TfLSArfnQL5T"
      },
      "outputs": [],
      "source": [
        "# Team members working on this code: Names.."
      ]
    },
    {
      "cell_type": "markdown",
      "metadata": {
        "id": "qFvVYCufQL5T"
      },
      "source": [
        "## **Debrief Race Calendar before Final Race**\n",
        "\n",
        "*Write a longer text (200-500 words) reflecting on what were the main ideas you started the seminar with, how you improved your models to achieve better performance and what strategy and analytics you want to use for your final race during seminar day*"
      ]
    },
    {
      "cell_type": "markdown",
      "metadata": {
        "id": "M1t67p2kQL5T"
      },
      "source": [
        "## **Analytics for Final Race**"
      ]
    },
    {
      "cell_type": "code",
      "execution_count": null,
      "metadata": {
        "id": "lVrrOFguQL5T"
      },
      "outputs": [],
      "source": [
        "# Team members working on this code: Names.."
      ]
    },
    {
      "cell_type": "markdown",
      "metadata": {
        "id": "kulv8cpKcq9_"
      },
      "source": [
        "## **References**\n",
        "- Cite all references you need according to chair guidelines"
      ]
    },
    {
      "cell_type": "markdown",
      "metadata": {
        "id": "_OLrMDxWc8oM"
      },
      "source": [
        "Liu, Xuan; Shi, Savannah Wei; Teixeira, Thales; Wedel, Michel (2018): Video Content Marketing: The Making of Clips, Journal of Marketing, Vol. 82, 86-101."
      ]
    }
  ],
  "metadata": {
    "colab": {
      "private_outputs": true,
      "provenance": [],
      "include_colab_link": true
    },
    "kernelspec": {
      "display_name": "Python 3",
      "name": "python3"
    }
  },
  "nbformat": 4,
  "nbformat_minor": 0
}