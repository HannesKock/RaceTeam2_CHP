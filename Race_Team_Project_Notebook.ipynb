{
  "cells": [
    {
      "cell_type": "markdown",
      "metadata": {
        "id": "view-in-github",
        "colab_type": "text"
      },
      "source": [
        "<a href=\"https://colab.research.google.com/github/HannesKock/RaceTeam2_CHP/blob/main/Race_Team_Project_Notebook.ipynb\" target=\"_parent\"><img src=\"https://colab.research.google.com/assets/colab-badge.svg\" alt=\"Open In Colab\"/></a>"
      ]
    },
    {
      "cell_type": "markdown",
      "metadata": {
        "id": "ycXWv5-jYpIC"
      },
      "source": [
        "# **Race Team Project Notebook**\n",
        "Names:\n",
        "\n",
        "Matr.:"
      ]
    },
    {
      "cell_type": "markdown",
      "metadata": {
        "id": "BUOq9_tORt3e"
      },
      "source": [
        "Please write down the Name of the Group member you worked on each section of code. This is necessary for grading by Studienbüro."
      ]
    },
    {
      "cell_type": "markdown",
      "metadata": {
        "id": "a8aiLYHdaX9P"
      },
      "source": [
        "## **Analytics for Race 1**"
      ]
    },
    {
      "cell_type": "markdown",
      "metadata": {
        "id": "CuIPnDlucl2q"
      },
      "source": [
        "- For each race day built one section with the code that you built for this race\n",
        "- If you keep the same code during the next races copy the code over to the next section\n",
        "- Describe why you built your analytics the way you do and interprete after each race what went well and what you want to improve on\n",
        "- During motivation and interpretation try to cite online sources that you read to make better decisions (e.g., scientific articles on machine learning, blog posts, github pages)"
      ]
    },
    {
      "cell_type": "code",
      "execution_count": null,
      "metadata": {
        "id": "bhtO3nrmQL5S"
      },
      "outputs": [],
      "source": [
        "# Team members working on this code: Names.."
      ]
    },
    {
      "cell_type": "code",
      "execution_count": null,
      "metadata": {
        "id": "dDhL2cIsQL5T"
      },
      "outputs": [],
      "source": [
        "# Team members working on this code: Names.."
      ]
    },
    {
      "cell_type": "code",
      "execution_count": null,
      "metadata": {
        "id": "3z_A9-ymQL5T"
      },
      "outputs": [],
      "source": [
        "#.."
      ]
    },
    {
      "cell_type": "code",
      "source": [
        "# Daten einlesen & Überblick verschaffen\n",
        "import pandas as pd\n",
        "\n",
        "df = pd.read_csv(\"simulator_data.csv\")\n",
        "print(df.head())\n",
        "print(df.columns)\n",
        "print(df.describe())\n",
        "print(df.info())\n"
      ],
      "metadata": {
        "id": "rQ78TqIW1vi1"
      },
      "execution_count": null,
      "outputs": []
    },
    {
      "cell_type": "code",
      "source": [
        "# Scatterplots (Parameter vs. Rundenzeit)\n",
        "# Ziel: Visuelle Hinweise auf lineare / nichtlineare Abhängigkeiten\n",
        "\n",
        "import matplotlib.pyplot as plt\n",
        "import seaborn as sns\n",
        "\n",
        "param_cols = df.columns.drop(\"Lap Time\")\n",
        "\n",
        "for col in param_cols:\n",
        "    plt.figure()\n",
        "    sns.scatterplot(x=df[col], y=df[\"Lap Time\"], alpha=0.3)\n",
        "    plt.title(f\"{col} vs. Lap Time\")\n",
        "    plt.show()\n"
      ],
      "metadata": {
        "collapsed": true,
        "id": "L1t83oN149ZJ"
      },
      "execution_count": null,
      "outputs": []
    },
    {
      "cell_type": "code",
      "source": [
        "import matplotlib.pyplot as plt\n",
        "import seaborn as sns\n",
        "\n",
        "# Durchschnittsgeschwindigkeit berechnen (falls noch nicht vorhanden)\n",
        "if \"Avg. Speed\" not in df.columns:\n",
        "    df[\"Avg. Speed\"] = df[\"Lap Distance\"] / (df[\"Lap Time\"] / 3600)\n",
        "\n",
        "# Alle Spalten außer \"Lap Time\" und \"Avg. Speed\" verwenden\n",
        "param_cols = df.columns.drop([\"Lap Time\", \"Avg. Speed\"])\n",
        "\n",
        "# Scatterplots erzeugen\n",
        "for col in param_cols:\n",
        "    plt.figure()\n",
        "    sns.scatterplot(x=df[col], y=df[\"Avg. Speed\"], alpha=0.3)\n",
        "    plt.title(f\"{col} vs. Avg. Speed\")\n",
        "    plt.xlabel(col)\n",
        "    plt.ylabel(\"Avg. Speed (km/h)\")\n",
        "    plt.grid(True)\n",
        "    plt.tight_layout()\n",
        "    plt.show()"
      ],
      "metadata": {
        "collapsed": true,
        "id": "83ZAwsoP_YTp"
      },
      "execution_count": null,
      "outputs": []
    },
    {
      "cell_type": "code",
      "source": [
        "!pip install optuna\n",
        "import pandas as pd\n",
        "from sklearn.ensemble import RandomForestRegressor\n",
        "from sklearn.model_selection import train_test_split\n",
        "from sklearn.preprocessing import StandardScaler\n",
        "import optuna\n",
        "\n",
        "# === 1. Daten einlesen ===\n",
        "df = pd.read_csv(\"simulator_data.csv\")\n",
        "\n",
        "# Ziel- und Feature-Spalten\n",
        "target_col = \"Lap Time\"\n",
        "feature_cols = df.columns.drop(target_col)\n",
        "\n",
        "# === 2. Modell trainieren ===\n",
        "X = df[feature_cols]\n",
        "y = df[target_col]\n",
        "\n",
        "# Optional: Skalieren\n",
        "scaler = StandardScaler()\n",
        "X_scaled = scaler.fit_transform(X)\n",
        "\n",
        "# Training/Test-Split (z. B. für Validierung)\n",
        "X_train, X_test, y_train, y_test = train_test_split(X_scaled, y, test_size=0.2, random_state=42)\n",
        "\n",
        "# Random Forest Regressor\n",
        "model = RandomForestRegressor(n_estimators=100, random_state=42)\n",
        "model.fit(X_train, y_train)\n",
        "\n",
        "# === 3. Bayesian Optimization Setup (Optuna) ===\n",
        "\n",
        "# Gegeben: Umgebungsbedingungen\n",
        "fixed_conditions = {\n",
        "    'Lap Distance': 3.7,\n",
        "    'Cornering': 6,\n",
        "    'Inclines': 20,\n",
        "    'Camber': 44,\n",
        "    'Grip': 1,\n",
        "    'Wind (Avg. Speed)': 97,\n",
        "    'Temperature': 29,\n",
        "    'Humidity': 23,\n",
        "    'Air Density': 70,\n",
        "    'Air Pressure': 98,\n",
        "    'Wind (Gusts)': 49,\n",
        "    'Altitude': 31,\n",
        "    'Roughness': 49,\n",
        "    'Width': 29\n",
        "}\n",
        "\n",
        "def objective(trial):\n",
        "    # Optimierbare Fahrzeugparameter\n",
        "    params = {\n",
        "        'Rear Wing': trial.suggest_float('Rear Wing', 0.0, 500),\n",
        "        'Engine': trial.suggest_float('Engine', 0.0, 500),\n",
        "        'Front Wing': trial.suggest_float('Front Wing', 0.0, 500),\n",
        "        'Brake Balance': trial.suggest_float('Brake Balance', 0.0, 500),\n",
        "        'Differential': trial.suggest_float('Differential', 0.0, 500),\n",
        "        'Suspension': trial.suggest_float('Suspension', 0.0, 500),\n",
        "    }\n",
        "\n",
        "    # Kombinieren mit festen Bedingungen\n",
        "    full_input = {**fixed_conditions, **params}\n",
        "    X_input = pd.DataFrame([full_input])\n",
        "    X_input_scaled = scaler.transform(X_input)\n",
        "\n",
        "    # Vorhersage durch Modell\n",
        "    lap_time = model.predict(X_input_scaled)[0]\n",
        "    return lap_time\n",
        "\n",
        "# Optuna-Studie starten\n",
        "study = optuna.create_study(direction='minimize')\n",
        "study.optimize(objective, n_trials=100)\n",
        "\n",
        "# Ergebnisse\n",
        "print(\"Beste Parameterkombination:\")\n",
        "for key, value in study.best_params.items():\n",
        "    print(f\"  {key}: {value:.4f}\")\n",
        "print(f\"Erwartete Rundenzeit: {study.best_value:.4f} Sekunden\")"
      ],
      "metadata": {
        "collapsed": true,
        "id": "a9HOY9CO106A"
      },
      "execution_count": null,
      "outputs": []
    },
    {
      "cell_type": "code",
      "source": [
        "from sklearn.inspection import PartialDependenceDisplay\n",
        "\n",
        "# Modell (z. B. Random Forest muss vorher trainiert sein)\n",
        "features = ['Rear Wing', 'Engine', 'Front Wing', 'Brake Balance', 'Differential', 'Suspension']\n",
        "PartialDependenceDisplay.from_estimator(model, X, features, target='Lap Time')\n",
        "plt.show()"
      ],
      "metadata": {
        "id": "7GFjy81LEe6X"
      },
      "execution_count": null,
      "outputs": []
    },
    {
      "cell_type": "code",
      "source": [
        "import statsmodels.api as sm\n",
        "\n",
        "X = df[['Rear Wing', 'Engine', 'Front Wing', 'Brake Balance', 'Differential', 'Suspension']]\n",
        "X = sm.add_constant(X)\n",
        "y = df[\"Lap Time\"]\n",
        "\n",
        "model = sm.OLS(y, X).fit()\n",
        "print(model.summary())"
      ],
      "metadata": {
        "id": "K8WQ0LBpFOL0"
      },
      "execution_count": null,
      "outputs": []
    },
    {
      "cell_type": "code",
      "source": [
        "import shap\n",
        "import numpy  as np\n",
        "import xgboost as xgb\n",
        "from sklearn.model_selection import train_test_split\n",
        "\n",
        "# 1. Falls noch nicht geschehen: Durchschnittsgeschwindigkeit berechnen\n",
        "if \"Avg. Speed\" not in df.columns:\n",
        "    df[\"Avg. Speed\"] = df[\"Lap Distance\"] / (df[\"Lap Time\"] / 3600)\n",
        "\n",
        "# 2. Features & Ziel definieren\n",
        "feature_cols = [\n",
        "    'Lap Distance', 'Cornering', 'Inclines', 'Camber', 'Grip',\n",
        "    'Wind (Avg. Speed)', 'Temperature', 'Humidity', 'Air Density',\n",
        "    'Air Pressure', 'Wind (Gusts)', 'Altitude', 'Roughness', 'Width',\n",
        "    'Rear Wing', 'Engine', 'Front Wing', 'Brake Balance', 'Differential',\n",
        "    'Suspension'\n",
        "]\n",
        "\n",
        "X = df[feature_cols]\n",
        "y = df[\"Avg. Speed\"]\n",
        "\n",
        "# 3. Train/test split\n",
        "X_train, X_test, y_train, y_test = train_test_split(X, y, test_size=0.00000001)\n",
        "\n",
        "# 4. Modell trainieren (XGBoost)\n",
        "model = xgb.XGBRegressor(n_estimators=100, max_depth=5, random_state=42)\n",
        "model.fit(X_train, y_train)\n",
        "y_hat = model.predict(X_test)\n",
        "error = np.mean(np.abs(y_test - y_hat))\n",
        "print(error)\n",
        "\n",
        "# # 5. SHAP-Werte berechnen\n",
        "# explainer = shap.Explainer(model)\n",
        "# shap_values = explainer(X_test)\n",
        "\n",
        "# # 6. SHAP Summary Plot\n",
        "# shap.summary_plot(shap_values, X_test)\n"
      ],
      "metadata": {
        "id": "_4C7T1BhGyGt"
      },
      "execution_count": null,
      "outputs": []
    },
    {
      "cell_type": "code",
      "source": [
        "import optuna\n",
        "import numpy as np\n",
        "import pandas as pd\n",
        "\n",
        "# You can get this from df.mean().values or pick a sample row\n",
        "base_input = df[feature_cols].mean().values\n",
        "\n",
        "for fc in fixed_conditions:\n",
        "    base_input[feature_cols.index(fc)] = fixed_conditions[fc]\n",
        "\n",
        "# Indices of the features we want to optimize\n",
        "optim_features = ['Rear Wing', 'Engine', 'Front Wing', 'Brake Balance', 'Differential', 'Suspension']\n",
        "optim_indices = [feature_cols.index(f) for f in optim_features]\n",
        "\n",
        "# Define bounds from your dataset (here we use min/max)\n",
        "feature_bounds = {\n",
        "    'Rear Wing': (1, 500),\n",
        "    'Engine': (1, 500),\n",
        "    'Front Wing': (1, 500),\n",
        "    'Brake Balance': (1, 500),\n",
        "    'Differential': (1, 500),\n",
        "    'Suspension': (1, 500),\n",
        "}\n",
        "\n",
        "# Objective function for Optuna\n",
        "def objective(trial):\n",
        "    x = base_input.copy()\n",
        "\n",
        "    for f in optim_features:\n",
        "        val = trial.suggest_int(f, int(feature_bounds[f][0]), int(feature_bounds[f][1]))\n",
        "        x[feature_cols.index(f)] = val\n",
        "\n",
        "    pred = model.predict(np.array([x]))[0]\n",
        "    return pred  # Optuna will maximize if we tell it to\n",
        "\n",
        "# Run Optuna study\n",
        "optuna.logging.disable_default_handler()\n",
        "study = optuna.create_study(direction='maximize')  # use 'minimize' if lower lap time is better\n",
        "study.optimize(objective, n_trials=255)\n",
        "\n",
        "\n",
        "# Show results\n",
        "print(\"Best params:\")\n",
        "for k, v in study.best_params.items():\n",
        "    print(f\"{k}: {v}\")\n",
        "\n",
        "print(f\"Max predicted avg speed: {study.best_value}\")\n"
      ],
      "metadata": {
        "id": "6v_W-wPAUbrX"
      },
      "execution_count": null,
      "outputs": []
    },
    {
      "cell_type": "code",
      "source": [],
      "metadata": {
        "id": "sABBQ6LBbPxK"
      },
      "execution_count": null,
      "outputs": []
    },
    {
      "cell_type": "code",
      "source": [
        "import optuna\n",
        "import numpy as np\n",
        "import xgboost as xgb\n",
        "from sklearn.model_selection import train_test_split\n",
        "\n",
        "# 1. Falls noch nicht geschehen: Durchschnittsgeschwindigkeit berechnen\n",
        "if \"Avg. Speed\" not in df.columns:\n",
        "    df[\"Avg. Speed\"] = df[\"Lap Distance\"] / (df[\"Lap Time\"] / 3600)\n",
        "\n",
        "# 2. Features & Ziel definieren\n",
        "feature_cols = [\n",
        "    'Lap Distance', 'Cornering', 'Inclines', 'Camber', 'Grip',\n",
        "    'Wind (Avg. Speed)', 'Temperature', 'Humidity', 'Air Density',\n",
        "    'Air Pressure', 'Wind (Gusts)', 'Altitude', 'Roughness', 'Width',\n",
        "    'Rear Wing', 'Engine', 'Front Wing', 'Brake Balance', 'Differential',\n",
        "    'Suspension'\n",
        "]\n",
        "\n",
        "X = df[feature_cols]\n",
        "y = df[\"Avg. Speed\"]\n",
        "\n",
        "\n",
        "# 4. XGBoost-Modell trainieren (Basis)\n",
        "model = xgb.XGBRegressor(n_estimators=100, max_depth=5, random_state=42)\n",
        "model.fit(X_train, y_train)\n",
        "\n",
        "# 5. Zielfunktion für die Optimierung definieren\n",
        "def objective(trial):\n",
        "    # Parameter, die optimiert werden sollen\n",
        "    params = {\n",
        "        'Rear Wing': trial.suggest_int('Rear Wing', 0, 500),\n",
        "        'Engine': trial.suggest_int('Engine', 0, 500),\n",
        "        'Front Wing': trial.suggest_int('Front Wing', 0, 500),\n",
        "        'Brake Balance': trial.suggest_int('Brake Balance', 0, 500),\n",
        "        'Differential': trial.suggest_int('Differential', 0, 500),\n",
        "        'Suspension': trial.suggest_int('Suspension', 0, 500)\n",
        "    }\n",
        "\n",
        "    # Testdaten mit den aktuellen Parameterwerten\n",
        "    test_data = fixed_conditions.copy()\n",
        "    test_data.update(params)\n",
        "\n",
        "    # Das Modell verwenden, um Vorhersage der Durchschnittsgeschwindigkeit für diese Parameter zu treffen\n",
        "    test_df = pd.DataFrame([test_data])\n",
        "    X_test_params = test_df[feature_cols]\n",
        "\n",
        "    # Vorhersage machen\n",
        "    predicted_speed = model.predict(X_test_params)[0]\n",
        "\n",
        "    # Das Ziel ist es, die Geschwindigkeit zu maximieren\n",
        "    return -predicted_speed  # Negieren, da Optuna minimiert\n",
        "\n",
        "# 6. Optuna-Optimierung starten\n",
        "study = optuna.create_study(direction='minimize')\n",
        "study.optimize(objective, n_trials=100)\n",
        "\n",
        "# Beste Parameterkombination\n",
        "best_params = study.best_params\n",
        "print(\"Beste Parameterkombination:\", best_params)\n",
        "\n",
        "# Vorhersage mit den besten Parametern\n",
        "best_test_data = fixed_conditions.copy()\n",
        "best_test_data.update(best_params)\n",
        "best_test_df = pd.DataFrame([best_test_data])\n",
        "X_best_test = best_test_df[feature_cols]\n",
        "\n",
        "# Vorhersage der besten Durchschnittsgeschwindigkeit\n",
        "best_predicted_speed = model.predict(X_best_test)[0]\n",
        "print(\"Vorhergesagte beste Durchschnittsgeschwindigkeit:\", best_predicted_speed)\n"
      ],
      "metadata": {
        "id": "ybddWvzplDsC"
      },
      "execution_count": null,
      "outputs": []
    },
    {
      "cell_type": "markdown",
      "metadata": {
        "id": "f1LiOt7yQL5T"
      },
      "source": [
        "## **Analytics for Race 2**"
      ]
    },
    {
      "cell_type": "code",
      "execution_count": null,
      "metadata": {
        "id": "VZcWkDUrQL5T"
      },
      "outputs": [],
      "source": [
        "# Team members working on this code: Names.."
      ]
    },
    {
      "cell_type": "markdown",
      "metadata": {
        "id": "aZneIB62QL5T"
      },
      "source": [
        "## **Analytics for Race 3**"
      ]
    },
    {
      "cell_type": "code",
      "execution_count": null,
      "metadata": {
        "id": "IdHKUysbQL5T"
      },
      "outputs": [],
      "source": [
        "# Team members working on this code: Names.."
      ]
    },
    {
      "cell_type": "markdown",
      "metadata": {
        "id": "nFETMTcZQL5T"
      },
      "source": [
        "## **Analytics for Race 4**"
      ]
    },
    {
      "cell_type": "code",
      "execution_count": null,
      "metadata": {
        "id": "lS0Om6gBQL5T"
      },
      "outputs": [],
      "source": [
        "# Team members working on this code: Names.."
      ]
    },
    {
      "cell_type": "markdown",
      "metadata": {
        "id": "5Ajs8np_QL5T"
      },
      "source": [
        "## **Analytics for Race 5**"
      ]
    },
    {
      "cell_type": "code",
      "execution_count": null,
      "metadata": {
        "id": "TfLSArfnQL5T"
      },
      "outputs": [],
      "source": [
        "# Team members working on this code: Names.."
      ]
    },
    {
      "cell_type": "markdown",
      "metadata": {
        "id": "qFvVYCufQL5T"
      },
      "source": [
        "## **Debrief Race Calendar before Final Race**\n",
        "\n",
        "*Write a longer text (200-500 words) reflecting on what were the main ideas you started the seminar with, how you improved your models to achieve better performance and what strategy and analytics you want to use for your final race during seminar day*"
      ]
    },
    {
      "cell_type": "markdown",
      "metadata": {
        "id": "M1t67p2kQL5T"
      },
      "source": [
        "## **Analytics for Final Race**"
      ]
    },
    {
      "cell_type": "code",
      "execution_count": null,
      "metadata": {
        "id": "lVrrOFguQL5T"
      },
      "outputs": [],
      "source": [
        "# Team members working on this code: Names.."
      ]
    },
    {
      "cell_type": "markdown",
      "metadata": {
        "id": "kulv8cpKcq9_"
      },
      "source": [
        "## **References**\n",
        "- Cite all references you need according to chair guidelines"
      ]
    },
    {
      "cell_type": "markdown",
      "metadata": {
        "id": "_OLrMDxWc8oM"
      },
      "source": [
        "Liu, Xuan; Shi, Savannah Wei; Teixeira, Thales; Wedel, Michel (2018): Video Content Marketing: The Making of Clips, Journal of Marketing, Vol. 82, 86-101."
      ]
    }
  ],
  "metadata": {
    "colab": {
      "private_outputs": true,
      "provenance": [],
      "include_colab_link": true
    },
    "kernelspec": {
      "display_name": "Python 3",
      "name": "python3"
    }
  },
  "nbformat": 4,
  "nbformat_minor": 0
}